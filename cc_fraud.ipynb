{
 "cells": [
  {
   "cell_type": "markdown",
   "metadata": {},
   "source": [
    "# Credit Card Fraud Detection with Random Forest\n",
    "\n",
    "## Problem Statement\n",
    "Classification problem - need to detect fraudulent credit card transactions in a dataset of 284,807 transactions. There are only 492 fraudulent transactions in the dataset, so it is very highly imbalanced.\n",
    "\n",
    "## Download and unzipping the dataset\n",
    "The dataset is available from the [Kaggle website](https://www.kaggle.com/mlg-ulb/creditcardfraud) - you will need a Kaggle account so either register for an account or sign in if you already have one.\n",
    "\n",
    "![download](img/data_download.png)\n",
    "\n",
    "The downloaded archive is named 310_23498_bundle_archive.zip and contains a single csv file: creditcard.csv "
   ]
  },
  {
   "cell_type": "code",
   "execution_count": 1,
   "metadata": {},
   "outputs": [],
   "source": [
    "# import all packages\n",
    "from zipfile import ZipFile\n",
    "import pandas as pd\n",
    "from sklearn.ensemble import RandomForestClassifier\n",
    "from sklearn.model_selection import train_test_split\n",
    "from sklearn.metrics import classification_report, accuracy_score,precision_score,recall_score,f1_score,matthews_corrcoef\n",
    "from sklearn.metrics import confusion_matrix"
   ]
  },
  {
   "cell_type": "code",
   "execution_count": 2,
   "metadata": {},
   "outputs": [],
   "source": [
    "# unzip the downloaded archive\n",
    "with ZipFile('310_23498_bundle_archive.zip', 'r') as zipObj:\n",
    "   zipObj.extractall()"
   ]
  },
  {
   "cell_type": "markdown",
   "metadata": {},
   "source": [
    "## Dataset exploration\n",
    "\n",
    "Read the creditcard.csv file into a pandas dataframe:"
   ]
  },
  {
   "cell_type": "code",
   "execution_count": 3,
   "metadata": {},
   "outputs": [],
   "source": [
    "df = pd.read_csv('creditcard.csv')"
   ]
  },
  {
   "cell_type": "markdown",
   "metadata": {},
   "source": [
    "Check the number of rows and columns. Should be 284,807 rows, one for each transaction and 31 columns. Time, V1 to V28 and Amount are the feature columns Class column is the indicator of non-fraudulent (Class=0) or fraudulent (Class=1) transactions. "
   ]
  },
  {
   "cell_type": "code",
   "execution_count": 4,
   "metadata": {},
   "outputs": [
    {
     "name": "stdout",
     "output_type": "stream",
     "text": [
      "The dataframe has 284807 rows and 31 columns.\n"
     ]
    }
   ],
   "source": [
    "print('The dataframe has',df.shape[0],'rows and',df.shape[1],'columns.')"
   ]
  },
  {
   "cell_type": "markdown",
   "metadata": {},
   "source": [
    "Check for missing values:"
   ]
  },
  {
   "cell_type": "code",
   "execution_count": 5,
   "metadata": {},
   "outputs": [
    {
     "name": "stdout",
     "output_type": "stream",
     "text": [
      "There are 0 missing values.\n"
     ]
    }
   ],
   "source": [
    "print('There are',df.isnull().sum().sum(),'missing values.')"
   ]
  },
  {
   "cell_type": "markdown",
   "metadata": {},
   "source": [
    "Check class balance:"
   ]
  },
  {
   "cell_type": "code",
   "execution_count": 6,
   "metadata": {},
   "outputs": [
    {
     "name": "stdout",
     "output_type": "stream",
     "text": [
      "There are 284315 non-fraudulent transactions and 492 fraudulent transactions.\n"
     ]
    }
   ],
   "source": [
    "class_0 = df['Class'].value_counts()[0]\n",
    "class_1 = df['Class'].value_counts()[1]\n",
    "print('There are',class_0,'non-fraudulent transactions and',class_1,'fraudulent transactions.')"
   ]
  },
  {
   "cell_type": "markdown",
   "metadata": {},
   "source": [
    "## Training the Random Forest Classifier\n",
    "\n",
    "First, we need to separate the dataframe into features (X) and class labels (y):"
   ]
  },
  {
   "cell_type": "code",
   "execution_count": 7,
   "metadata": {},
   "outputs": [],
   "source": [
    "X = df.iloc[:,:30]\n",
    "y = df.iloc[:,30]"
   ]
  },
  {
   "cell_type": "markdown",
   "metadata": {},
   "source": [
    "Now use SciKit-Learn's train-test split utility to divide X and y into train and test sets:"
   ]
  },
  {
   "cell_type": "code",
   "execution_count": 8,
   "metadata": {},
   "outputs": [],
   "source": [
    "X_train, X_test, y_train, y_test = train_test_split(X, y, test_size=0.20, random_state=0)"
   ]
  },
  {
   "cell_type": "code",
   "execution_count": 9,
   "metadata": {},
   "outputs": [
    {
     "data": {
      "text/plain": [
       "RandomForestClassifier(bootstrap=True, ccp_alpha=0.0, class_weight=None,\n",
       "                       criterion='gini', max_depth=None, max_features='auto',\n",
       "                       max_leaf_nodes=None, max_samples=None,\n",
       "                       min_impurity_decrease=0.0, min_impurity_split=None,\n",
       "                       min_samples_leaf=1, min_samples_split=2,\n",
       "                       min_weight_fraction_leaf=0.0, n_estimators=200,\n",
       "                       n_jobs=None, oob_score=False, random_state=None,\n",
       "                       verbose=0, warm_start=False)"
      ]
     },
     "execution_count": 9,
     "metadata": {},
     "output_type": "execute_result"
    }
   ],
   "source": [
    "crf=RandomForestClassifier(n_estimators=200)\n",
    "crf.fit(X_train,y_train)"
   ]
  },
  {
   "cell_type": "markdown",
   "metadata": {},
   "source": [
    "Now make predictions using the test set and check the accuracy:"
   ]
  },
  {
   "cell_type": "code",
   "execution_count": 10,
   "metadata": {},
   "outputs": [
    {
     "name": "stdout",
     "output_type": "stream",
     "text": [
      "The accuracy is  0.9995084442259752\n",
      "The precision is 0.9195402298850575\n",
      "The recall is 0.7920792079207921\n",
      "The F1-Score is 0.851063829787234\n",
      "The Matthews correlation coefficient is 0.8531958042156231\n"
     ]
    }
   ],
   "source": [
    "predictions=crf.predict(X_test)\n",
    "\n",
    "n_errors = (predictions != y_test).sum()\n",
    "print('Errors:', n_errors)\n",
    "\n",
    "acc= accuracy_score(y_test,predictions)\n",
    "print(\"The accuracy is  {}\".format(acc))\n",
    "prec= precision_score(y_test,predictions)\n",
    "print(\"The precision is {}\".format(prec))\n",
    "rec= recall_score(y_test,predictions)\n",
    "print(\"The recall is {}\".format(rec))\n",
    "f1= f1_score(y_test,predictions)\n",
    "print(\"The F1-Score is {}\".format(f1))\n",
    "MCC=matthews_corrcoef(y_test,predictions)\n",
    "print(\"The Matthews correlation coefficient is {}\".format(MCC))"
   ]
  }
 ],
 "metadata": {
  "kernelspec": {
   "display_name": "Python 3",
   "language": "python",
   "name": "python3"
  },
  "language_info": {
   "codemirror_mode": {
    "name": "ipython",
    "version": 3
   },
   "file_extension": ".py",
   "mimetype": "text/x-python",
   "name": "python",
   "nbconvert_exporter": "python",
   "pygments_lexer": "ipython3",
   "version": "3.7.7"
  }
 },
 "nbformat": 4,
 "nbformat_minor": 4
}
